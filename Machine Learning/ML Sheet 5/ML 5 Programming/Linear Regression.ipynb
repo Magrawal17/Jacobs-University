{
 "cells": [
  {
   "cell_type": "code",
   "execution_count": 23,
   "metadata": {},
   "outputs": [
    {
     "name": "stdout",
     "output_type": "stream",
     "text": [
      "Xtest:  [[1]\n",
      " [3]\n",
      " [4]]\n",
      "coefficients: [-0.12125  0.47    -0.00625]\n",
      "The prediction is:  [1.26375]\n"
     ]
    }
   ],
   "source": [
    "#a\n",
    "import numpy as np\n",
    "X=np.array([[0,0],[1,2],[2,4],[3,0],[4,1]])\n",
    "Y=np.array([0,0.3,0.75,1,2])\n",
    "\n",
    "AffineX=np.insert(X, 0, 1, axis=1)\n",
    "\n",
    "A=np.matmul(AffineX.transpose(),AffineX)\n",
    "b=np.matmul(AffineX.transpose(),Y)\n",
    "coefficients=np.matmul(np.linalg.inv(A),b)\n",
    "xtest1=np.array([[1,3,4]])\n",
    "print(\"Xtest: \",xtest1.T)\n",
    "print(\"coefficients:\",coefficients)\n",
    "prediction=np.matmul(coefficients,xtest1.T)\n",
    "print(\"The prediction is: \", prediction)\n"
   ]
  },
  {
   "cell_type": "code",
   "execution_count": 50,
   "metadata": {},
   "outputs": [
    {
     "name": "stdout",
     "output_type": "stream",
     "text": [
      "[1.71319260e+04 1.36010583e+04 1.10590073e+07 5.61036834e+06\n",
      " 2.72431949e+06 1.01996531e+05 5.99393440e+04 4.29350700e+03\n",
      " 4.92322400e+04]\n",
      "[ 1.06597105e+05 -6.78136621e+04 -1.18000000e+02  3.60000000e+01\n",
      "  7.60000000e+01  4.16995371e+00 -2.33302083e-02  1.99327365e+01\n",
      "  2.03776839e-01]\n"
     ]
    }
   ],
   "source": [
    "#b\n",
    "import pandas as pd\n",
    "import numpy as np\n",
    "a=pd.read_excel(r\"eeff.xlsx\")\n",
    "X=a.values.tolist()\n",
    "Y1=[]\n",
    "Y2=[]\n",
    "for a in X:\n",
    "    Y1.append(a[8])\n",
    "    Y2.append(a[9])\n",
    "    a.pop(9)\n",
    "    a.pop(8)\n",
    "Y1=np.array(Y1)\n",
    "Y2=np.array(Y2)\n",
    "X=np.array(X)\n",
    "AffineX=np.insert(X, 0, 1, axis=1)\n",
    "A=np.matmul(AffineX.T,AffineX)\n",
    "b1=np.matmul(AffineX.T,Y1)\n",
    "b2=np.matmul(AffineX.T,Y2)\n",
    "coeff1=np.matmul(np.linalg.inv(A),b1)\n",
    "coeff2=np.matmul(np.linalg.inv(A),b2)\n",
    "xtest1=AffineX[0]\n",
    "xtest2=AffineX[1]\n",
    "xtest3=AffineX[2]\n",
    "xtest1=np.array([xtest1])\n",
    "xtest2=np.array([xtest2])\n",
    "xtest3=np.array([xtest3])\n",
    "\n",
    "print(\"Prediction for 1st data: \", np.matmul(coeff1,xtest1.T), np.matmul(coeff2,xtest1.T))\n",
    "print(\"Prediction for 2nd data: \", np.matmul(coeff1,xtest2.T), np.matmul(coeff2,xtest2.T))\n",
    "print(\"Prediction for 3rd data: \", np.matmul(coeff1,xtest3.T), np.matmul(coeff2,xtest3.T))\n",
    "\n",
    "print(coeff1)"
   ]
  },
  {
   "cell_type": "code",
   "execution_count": null,
   "metadata": {},
   "outputs": [],
   "source": []
  }
 ],
 "metadata": {
  "kernelspec": {
   "display_name": "Python 3",
   "language": "python",
   "name": "python3"
  },
  "language_info": {
   "codemirror_mode": {
    "name": "ipython",
    "version": 3
   },
   "file_extension": ".py",
   "mimetype": "text/x-python",
   "name": "python",
   "nbconvert_exporter": "python",
   "pygments_lexer": "ipython3",
   "version": "3.7.6"
  }
 },
 "nbformat": 4,
 "nbformat_minor": 4
}
