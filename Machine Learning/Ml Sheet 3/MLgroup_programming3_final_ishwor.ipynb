{
 "cells": [
  {
   "cell_type": "code",
   "execution_count": 1,
   "metadata": {},
   "outputs": [],
   "source": [
    "import numpy as np\n",
    "import re  "
   ]
  },
  {
   "cell_type": "code",
   "execution_count": 2,
   "metadata": {},
   "outputs": [
    {
     "name": "stdout",
     "output_type": "stream",
     "text": [
      "/bin/sh: wget: command not found\r\n"
     ]
    }
   ],
   "source": [
    "!wget https://archive.ics.uci.edu/ml/machine-learning-databases/spambase/spambase.data\n"
   ]
  },
  {
   "cell_type": "code",
   "execution_count": 3,
   "metadata": {},
   "outputs": [
    {
     "name": "stdout",
     "output_type": "stream",
     "text": [
      "[  0.      0.64    0.64    0.      0.32    0.      0.      0.      0.\n",
      "   0.      0.      0.64    0.      0.      0.      0.32    0.      1.29\n",
      "   1.93    0.      0.96    0.      0.      0.      0.      0.      0.\n",
      "   0.      0.      0.      0.      0.      0.      0.      0.      0.\n",
      "   0.      0.      0.      0.      0.      0.      0.      0.      0.\n",
      "   0.      0.      0.      0.      0.      0.      0.778   0.      0.\n",
      "   3.756  61.    278.   ]\n"
     ]
    }
   ],
   "source": [
    "data= np.loadtxt(\"spambase.data\",delimiter=\",\")\n",
    "dataset1= data[0,:-1] # first sample with 57 attributes /removing output data\n",
    "completedataset= data[:,:-1] # all sample with 57 attributes /removing output data\n",
    "\n",
    "print(dataset1)\n"
   ]
  },
  {
   "cell_type": "code",
   "execution_count": 4,
   "metadata": {},
   "outputs": [],
   "source": [
    "\n",
    "\n",
    "\n",
    "spamword=[\"make\",\"address\",\"all\",\"3d\",\"our\",\"over\",\"remove\",\"internet\",\"order\",\"mail\",\"receive\",\"will\",\"people\",\"report\",\"addresses\",\"free\",\"business\",\"email\",\"you\",\"credit\",\"your\",\"font\",\"000\",\"money\",\"hp\",\"hpl\",\"george\",\"650\",\"lab\",\"labs\",\"telnet\",\"857\",\"data\",\"415\",\"85\",\"technology\",\"1999\",\"parts\",\"pm\",\"direct\",\"cs\",\"meeting\",\"original\",\"project\",\"re\",\"edu\",\"table\",\"conference\"]\n",
    "\n",
    "#works for strings and chars also\n",
    "#saves count in dict format for spam words and ignores other\n",
    "#returns list in the order of spamword list representing corresponding count\n",
    "def stringfreq(words,spamword):\n",
    "    dict1={}\n",
    "\n",
    "    for sw in spamword:\n",
    "        dict1[sw]= 0\n",
    "    wordscount=len(words)\n",
    "    #print(words)\n",
    "    for word in words:\n",
    "        if word in spamword:\n",
    "                dict1[word]+=1\n",
    "    output=[]\n",
    "    for sw in spamword:\n",
    "\n",
    "        output.append(round(100*dict1[sw]/wordscount,3));\n",
    "    return output\n",
    "\n",
    "def featureextractor(filename):\n",
    "    filedata=[]\n",
    "    with open(filename) as f:\n",
    "        filedata = f.read()\n",
    "\n",
    "    #extracting words only\n",
    "    words= re.split(\"[^a-zA-Z0-9]+| \", filedata) \n",
    "    #print(words)\n",
    "    #for x1-48\n",
    "    firsttype=stringfreq(words,spamword)\n",
    "\n",
    "    spamchars= [\";\",\"(\",\"[\",\"!\",\"$\",\"#\"]\n",
    "    #for x49- 54\n",
    "    secondtype=stringfreq(filedata,spamchars)\n",
    "\n",
    "    #for x-55,56,57\n",
    "    #saves length of  uninterrupted sequence of capital letters.\n",
    "    seq=[] \n",
    "    count=0;\n",
    "    for lett in filedata:\n",
    "\n",
    "        if lett.isupper():\n",
    "            count+=1;\n",
    "        else:\n",
    "            if(count>=1): #if length was recorded previously.\n",
    "                seq.append(count)\n",
    "            count=0;\n",
    "\n",
    "    x55=round(sum(seq)/len(seq),3) #average  length\n",
    "\n",
    "    x56= max(seq) #max len for uninterrupted cap.lett\n",
    "\n",
    "    x57= sum(seq)  #total capital letters length\n",
    "\n",
    "    #concat all results x1-57\n",
    "    finaltest = firsttype + secondtype + [x55,x56,x57]\n",
    "    return finaltest\n"
   ]
  },
  {
   "cell_type": "code",
   "execution_count": 5,
   "metadata": {},
   "outputs": [
    {
     "name": "stdout",
     "output_type": "stream",
     "text": [
      "[0.0, 0.0, 0.0, 0.0, 0.0, 0.0, 0.0, 0.0, 0.0, 0.0, 0.0, 0.877, 0.0, 0.0, 0.0, 0.0, 0.0, 0.0, 0.0, 0.0, 0.439, 0.0, 0.0, 0.0, 0.0, 0.0, 0.0, 0.0, 0.0, 0.0, 0.0, 0.0, 0.0, 0.0, 0.0, 0.0, 0.0, 0.0, 0.0, 0.0, 0.0, 0.0, 0.0, 0.0, 0.0, 0.0, 0.0, 0.0, 0.0, 0.198, 0.198, 0.066, 0.0, 0.066, 1.167, 2, 56]\n",
      "[0.0, 0.0, 0.0, 0.0, 0.0, 0.0, 0.0, 0.0, 0.0, 0.0, 0.0, 0.0, 0.0, 0.0, 0.0, 0.0, 0.0, 2.74, 1.37, 0.0, 1.37, 0.0, 0.0, 0.0, 0.0, 0.0, 0.0, 0.0, 0.0, 0.0, 0.0, 0.0, 0.0, 0.0, 0.0, 0.0, 0.0, 0.0, 0.0, 0.0, 0.0, 0.0, 0.0, 0.0, 0.0, 0.0, 0.0, 0.0, 0.0, 0.0, 0.0, 0.0, 0.0, 0.0, 1.364, 5, 45]\n",
      "[0.0, 0.0, 0.0, 0.0, 0.752, 0.0, 0.0, 0.0, 0.0, 0.0, 0.0, 0.0, 0.0, 0.0, 0.0, 0.0, 3.008, 0.0, 1.504, 0.0, 1.504, 0.0, 0.0, 0.0, 0.0, 0.0, 0.0, 0.0, 0.0, 0.0, 0.0, 0.0, 0.0, 0.0, 0.0, 0.0, 0.0, 0.0, 0.0, 0.0, 0.0, 0.0, 0.0, 1.504, 0.0, 0.0, 0.0, 0.0, 0.122, 0.122, 0.0, 0.0, 0.0, 0.0, 1.657, 10, 58]\n"
     ]
    }
   ],
   "source": [
    "filenames =[\"spam_or_no_spam.txt\",\"spam_or_no_spam_2.txt\",\"spam_or_no_spam_3.txt\"]\n",
    "\n",
    "dataset_onlyinput=[]\n",
    "for file in filenames:\n",
    "    data=featureextractor(file)\n",
    "    dataset_onlyinput.append(data)\n",
    "\n",
    "\n",
    "for data in dataset_onlyinput:\n",
    "    print(data)\n"
   ]
  },
  {
   "cell_type": "code",
   "execution_count": null,
   "metadata": {},
   "outputs": [],
   "source": []
  }
 ],
 "metadata": {
  "kernelspec": {
   "display_name": "Python 3",
   "language": "python",
   "name": "python3"
  },
  "language_info": {
   "codemirror_mode": {
    "name": "ipython",
    "version": 3
   },
   "file_extension": ".py",
   "mimetype": "text/x-python",
   "name": "python",
   "nbconvert_exporter": "python",
   "pygments_lexer": "ipython3",
   "version": "3.7.6"
  }
 },
 "nbformat": 4,
 "nbformat_minor": 2
}
