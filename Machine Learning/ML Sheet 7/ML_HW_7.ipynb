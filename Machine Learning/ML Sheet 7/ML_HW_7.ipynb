{
 "cells": [
  {
   "cell_type": "code",
   "execution_count": 89,
   "metadata": {},
   "outputs": [],
   "source": [
    "from sklearn.linear_model import LinearRegression\n",
    "from matplotlib import pyplot as plt\n",
    "import numpy as np\n",
    "from sklearn.neighbors import KNeighborsRegressor\n",
    "from math import floor\n"
   ]
  },
  {
   "cell_type": "code",
   "execution_count": 90,
   "metadata": {},
   "outputs": [],
   "source": [
    "def ValidationSetApproach(X, Y):\n",
    "    GEs1, GEs2, GEs3 = [], [], []\n",
    "    ks = [k for k in range(1,22)]\n",
    "    training_data_X = np.array(X[10:])\n",
    "    training_data_Y = np.array(Y[10:])\n",
    "    validation_set_X = np.array(X[:10])\n",
    "    validation_set_Y = np.array(Y[:10])\n",
    "    for k in range(1,22):\n",
    "        trainer = KNeighborsRegressor(n_neighbors = k)\n",
    "        trainer.fit(training_data_X, training_data_Y)\n",
    "        prediction = np.array(trainer.predict(validation_set_X))\n",
    "        loss_array = validation_set_Y - prediction\n",
    "        loss_array **= 2\n",
    "        loss = loss_array.sum() / len(validation_set_Y)\n",
    "        GEs1.append(loss)\n",
    "    training_data_X = np.array(X[:40])\n",
    "    training_data_Y = np.array(Y[:40])\n",
    "    validation_set_X = np.array(X[40:])\n",
    "    validation_set_Y = np.array(Y[40:])\n",
    "    for k in range(1,22):\n",
    "        trainer = KNeighborsRegressor(n_neighbors = k)\n",
    "        trainer.fit(training_data_X, training_data_Y)\n",
    "        prediction = np.array(trainer.predict(validation_set_X))\n",
    "        loss_array = validation_set_Y - prediction\n",
    "        loss_array **= 2\n",
    "        loss = loss_array.sum() / len(validation_set_Y)\n",
    "        GEs2.append(loss)\n",
    "    training_data_X = np.array(X[:19] + X[30:])\n",
    "    training_data_Y = np.array(Y[:19] + Y[30:])\n",
    "    validation_set_X = np.array(X[19:30])\n",
    "    validation_set_Y = np.array(Y[19:30])\n",
    "    for k in range(1,22):\n",
    "        trainer = KNeighborsRegressor(n_neighbors = k)\n",
    "        trainer.fit(training_data_X, training_data_Y)\n",
    "        prediction = np.array(trainer.predict(validation_set_X))\n",
    "        loss_array = validation_set_Y - prediction\n",
    "        loss_array **= 2\n",
    "        loss = loss_array.sum() / len(validation_set_Y)\n",
    "        GEs3.append(loss)\n",
    "    plt.plot(ks, GEs1, \"r\", label = \"validation set approach\")\n",
    "    plt.plot(ks, GEs2, \"r\", label = \"validation set approach\")\n",
    "    plt.plot(ks, GEs3, \"r\", label = \"validation set approach\")"
   ]
  },
  {
   "cell_type": "code",
   "execution_count": 91,
   "metadata": {},
   "outputs": [],
   "source": [
    "def KfoldCrossValidation(X, Y, K):\n",
    "    sets = []\n",
    "    width = floor(len(X)/K)\n",
    "    GEs = []\n",
    "    \n",
    "    \n",
    "    #splitting the data into sets\n",
    "    n = 0\n",
    "    while not n >= len(x):\n",
    "        if n+width >= len(x):\n",
    "            sets.append([X[n:], Y[n:]])\n",
    "        else:\n",
    "            sets.append([X[n:n+width], Y[n:n+width]])\n",
    "        n += width\n",
    "        \n",
    "    #calculating for each k the error through K-fold cross validation\n",
    "    for k in range(1,21):\n",
    "        trainer = KNeighborsRegressor(n_neighbors = k)\n",
    "        E = []\n",
    "        for i in range(0, len(sets)):\n",
    "            inputs, outputs = [], []\n",
    "            for j in range(0, len(sets)):\n",
    "                if j != i:\n",
    "                    inputs += sets[j][0]\n",
    "                    outputs += sets[j][1]\n",
    "            trainer.fit(inputs, outputs)\n",
    "            prediction = np.array(trainer.predict(sets[i][0]))\n",
    "            loss_array = np.array(prediction) - np.array(sets[i][1])\n",
    "            loss_array **= 2\n",
    "            loss = loss_array.sum() / len(sets[i][0])\n",
    "            E.append([loss])\n",
    "        E = np.array(E)\n",
    "        GE = E.sum() / len(sets)\n",
    "        GEs.append(GE)\n",
    "    ks = [i for i in range(1,21)]\n",
    "    if K == len(X):\n",
    "        plt.plot(ks, GEs, \"b\", label = \"Leave-one-out CV\")\n",
    "    else:\n",
    "        plt.plot(ks, GEs, \"g\", label = f\"{K}-fold -CV\")"
   ]
  },
  {
   "cell_type": "code",
   "execution_count": 92,
   "metadata": {},
   "outputs": [],
   "source": [
    "def leave_one_cross_validation(X, Y):\n",
    "    KfoldCrossValidation(X, Y, len(X))"
   ]
  },
  {
   "cell_type": "code",
   "execution_count": 94,
   "metadata": {},
   "outputs": [
    {
     "data": {
      "image/png": "[encoded data removed]",
      "text/plain": [
       "<Figure size 432x288 with 1 Axes>"
      ]
     },
     "metadata": {
      "needs_background": "light"
     },
     "output_type": "display_data"
    }
   ],
   "source": [
    "x = [[x] for x in np.linspace(-4, 4, 51)]\n",
    "y = [[i[0] ** 2 + np.random.normal(0, 1.15)] for i in x]\n",
    "\n",
    "ValidationSetApproach(x, y)\n",
    "KfoldCrossValidation(x, y, 10)\n",
    "leave_one_cross_validation(x, y)\n",
    "plt.xlim(21, 1)\n",
    "plt.legend()\n",
    "plt.show()\n",
    "\n",
    "\n",
    "\n",
    "\n"
   ]
  }
 ],
 "metadata": {
  "kernelspec": {
   "display_name": "Python 3",
   "language": "python",
   "name": "python3"
  },
  "language_info": {
   "codemirror_mode": {
    "name": "ipython",
    "version": 3
   },
   "file_extension": ".py",
   "mimetype": "text/x-python",
   "name": "python",
   "nbconvert_exporter": "python",
   "pygments_lexer": "ipython3",
   "version": "3.8.3"
  }
 },
 "nbformat": 4,
 "nbformat_minor": 4
}
