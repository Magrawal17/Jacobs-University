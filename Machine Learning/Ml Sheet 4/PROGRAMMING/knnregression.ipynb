{
 "cells": [
  {
   "cell_type": "code",
   "execution_count": 73,
   "metadata": {},
   "outputs": [],
   "source": [
    "import numpy as np\n",
    "import pandas as pd\n",
    "import openpyxl"
   ]
  },
  {
   "cell_type": "code",
   "execution_count": 80,
   "metadata": {},
   "outputs": [
    {
     "name": "stdout",
     "output_type": "stream",
     "text": [
      "[[array([[4]]), array([[2]])], [array([[3]]), array([[1]])], [array([[2]]), array([[0.75]])], [array([[1]]), array([[0.3]])]]\n",
      "[[1.0125]]\n"
     ]
    }
   ],
   "source": [
    "#answer A\n",
    "\n",
    "def loss(a, b):\n",
    "    #assumption a and b both are row vectors\n",
    "    assert (a.shape == b.shape)\n",
    "    diff = a - b\n",
    "    return (diff).dot(diff.T)[0][0]\n",
    "\n",
    "def KNN_regression(data,target,k):\n",
    "    inputs = [data[i][0] for i in range(0,len(data))]\n",
    "    losses, copy = [], []\n",
    "    for i in inputs:\n",
    "        l = loss(target, i)\n",
    "        losses.append(l)\n",
    "    neighbours = []\n",
    "    for i in range(0,k):\n",
    "        minimum = min(losses)\n",
    "        min_index = losses.index(minimum)\n",
    "        neighbours.append(data[min_index])\n",
    "        losses.pop(min_index)\n",
    "        data.pop(min_index)\n",
    "    print(neighbours)\n",
    "    output = 0.0\n",
    "    for i in range(0,k):\n",
    "        output += neighbours[i][1]\n",
    "    return output/k\n",
    "\n",
    "\n",
    "point = np.array([[4]])\n",
    "data = [[np.array([[0]]), np.array([[0]])], [np.array([[1]]), np.array([[0.3]])], [np.array([[2]]), np.array([[0.75]])], [np.array([[3]]), np.array([[1]])], [np.array([[4]]), np.array([[2]])]]\n",
    "print(KNN_regression(data, point, 4))"
   ]
  },
  {
   "cell_type": "code",
   "execution_count": 81,
   "metadata": {},
   "outputs": [],
   "source": [
    "#answer B\n",
    ", \n",
    "#extracting the data\n",
    "ps = openpyxl.load_workbook('data_set.xlsx')\n",
    "sheet = ps['energy']\n",
    "input_columns = \"ABCDEFGH\"\n",
    "output_columns = \"IJ\"\n",
    "data = []\n",
    "for row in range(2, sheet.max_row):\n",
    "    input_vec, output_vec = [], []\n",
    "    for column in input_columns:\n",
    "        input_vec.append(sheet[column+str(row)].value)\n",
    "    for column in output_columns:\n",
    "        output_vec.append(sheet[column+str(row)].value)\n",
    "    #sometimes the max_row has a higher value than the actual number of occupied rows\n",
    "    #so checking whether any of the entries in our vectors are none, and if so\n",
    "    #then excluding this input-output pair out of the used dataset\n",
    "    if None in output_vec or None in input_vec:\n",
    "        continue\n",
    "    input_vec = np.array([input_vec])\n",
    "    output_vec = np.array([output_vec])\n",
    "    data.append([input_vec, output_vec])"
   ]
  },
  {
   "cell_type": "code",
   "execution_count": 94,
   "metadata": {},
   "outputs": [
    {
     "name": "stdout",
     "output_type": "stream",
     "text": [
      "[[array([[9.8000e-01, 5.1450e+02, 2.9400e+02, 1.1025e+02, 7.0000e+00,\n",
      "        3.0000e+00, 2.5000e-01, 3.0000e+00]]), array([[28.56, 29.78]])], [array([[9.8000e-01, 5.1450e+02, 2.9400e+02, 1.1025e+02, 7.0000e+00,\n",
      "        3.0000e+00, 4.0000e-01, 3.0000e+00]]), array([[32.69, 33.24]])], [array([[9.8000e-01, 5.1450e+02, 2.9400e+02, 1.1025e+02, 7.0000e+00,\n",
      "        2.0000e+00, 1.0000e-01, 2.0000e+00]]), array([[24.29, 25.95]])]]\n",
      "[[28.51333333 29.65666667]]\n"
     ]
    }
   ],
   "source": [
    "def predictor(x, k):\n",
    "    return KNN_regression(data, x, k)\n",
    "    \n",
    "print(predictor(np.array([[11.0,2.0,33.0,4.0,5.0,6.0,0.0,0.0]]), 3))"
   ]
  },
  {
   "cell_type": "code",
   "execution_count": null,
   "metadata": {},
   "outputs": [],
   "source": []
  }
 ],
 "metadata": {
  "kernelspec": {
   "display_name": "Python 3",
   "language": "python",
   "name": "python3"
  },
  "language_info": {
   "codemirror_mode": {
    "name": "ipython",
    "version": 3
   },
   "file_extension": ".py",
   "mimetype": "text/x-python",
   "name": "python",
   "nbconvert_exporter": "python",
   "pygments_lexer": "ipython3",
   "version": "3.8.3"
  }
 },
 "nbformat": 4,
 "nbformat_minor": 4
}
