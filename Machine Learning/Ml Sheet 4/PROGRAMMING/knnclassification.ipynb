{
 "cells": [
  {
   "cell_type": "code",
   "execution_count": 98,
   "metadata": {},
   "outputs": [
    {
     "name": "stdout",
     "output_type": "stream",
     "text": [
      "Its a spam. Don't open it\n"
     ]
    }
   ],
   "source": [
    "import pandas as pd\n",
    "import numpy as np\n",
    "\n",
    "def error(dataPoints,test):\n",
    "    errorlist=[]\n",
    "    for i in range(len(dataPoints)):\n",
    "        error=(np.array(test)-np.array(dataPoints[i]))**2\n",
    "        errorlist.append(sum(error))\n",
    "    return(errorlist)\n",
    "    \n",
    "def nearestneighbors(k,test,dataPoints):\n",
    "    nearestNeig=[]\n",
    "    xdata=[i[0:-1] for i in dataPoints]\n",
    "    errorlist=error(xdata,test)\n",
    "    for i in range(k):\n",
    "        temp=min(errorlist) \n",
    "        nearestindex=errorlist.index(temp)\n",
    "        nearestNeig.append(dataPoints[nearestindex])\n",
    "        dataPoints.remove(dataPoints[nearestindex])\n",
    "        errorlist.remove(temp)\n",
    "    countspam=0\n",
    "    countnotspam=0\n",
    "    for i in range(len(nearestNeig)):\n",
    "        if (nearestNeig[i][len(dataPoints[0])-1]==0):\n",
    "            countnotspam=countnotspam+1\n",
    "        else:\n",
    "            countspam=countspam+1\n",
    "        \n",
    "    \n",
    "    relcountspam=countspam/k\n",
    "    relnotspam=countnotspam/k\n",
    "    if(relcountspam>relnotspam):\n",
    "        print(\"Its a spam. Don't open it\")\n",
    "    else:\n",
    "        print(\"Not a spam. You may open it.\")\n",
    "\n",
    "s=pd.read_csv(r\"spambase.data\")\n",
    "a=(s.values.tolist())\n",
    "testdata=[0,0.63,0,0,1.59,0.31,0,0,0.31,0,0,0.63,0,0,1.27,0.63,0.31,3.18,2.22,0,1.91,0,0.31,0.63,0,0,0,0.31,0,0,0,0,0,0,0,0,0,0,0,1.59,0,0,0,0,0,0,0,0,0,0.275,0,0.055,0.496,0,3.509,91,186]\n",
    "nearestneighbors(7,testdata,a)"
   ]
  },
  {
   "cell_type": "code",
   "execution_count": null,
   "metadata": {},
   "outputs": [],
   "source": []
  }
 ],
 "metadata": {
  "kernelspec": {
   "display_name": "Python 3",
   "language": "python",
   "name": "python3"
  },
  "language_info": {
   "codemirror_mode": {
    "name": "ipython",
    "version": 3
   },
   "file_extension": ".py",
   "mimetype": "text/x-python",
   "name": "python",
   "nbconvert_exporter": "python",
   "pygments_lexer": "ipython3",
   "version": "3.7.6"
  }
 },
 "nbformat": 4,
 "nbformat_minor": 4
}
